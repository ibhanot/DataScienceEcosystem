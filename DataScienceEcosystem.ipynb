{
 "cells": [
  {
   "cell_type": "markdown",
   "id": "033c7a12",
   "metadata": {},
   "source": [
    "# Data Science Tools and Ecosystem"
   ]
  },
  {
   "cell_type": "markdown",
   "id": "d648375b",
   "metadata": {},
   "source": [
    "In this notebook, Data Science Tools and Ecosystem are summarized."
   ]
  },
  {
   "cell_type": "markdown",
   "id": "ca6e1b5c",
   "metadata": {},
   "source": [
    "**Ojectives: Here are some key take aways from this chapter.**\n",
    "- Overview and basic functions of Jupyter.\n",
    "- Introduction to RStudio.\n",
    "- Information about various libraries used in Jupyter and RStudio.\n",
    "- Introduction to usage, advantages, and different components of GitHub. "
   ]
  },
  {
   "cell_type": "markdown",
   "id": "aa7dc9ee",
   "metadata": {},
   "source": [
    "- Some of the popular languages that Data Scientists use are:\n",
    "    1. python\n",
    "    2. R\n",
    "    3. Java\n",
    "    4. SQL\n",
    "    5. Julia"
   ]
  },
  {
   "cell_type": "markdown",
   "id": "9acf9a6d",
   "metadata": {},
   "source": [
    "- Some of the commonly used libraries used by Data Scientists include:\n",
    "    1. Pandas\n",
    "    2. PyTorch\n",
    "    3. NumPy\n",
    "    4. TensorFlow\n",
    "    5. Caret\n",
    "    6. SciPy"
   ]
  },
  {
   "cell_type": "markdown",
   "id": "ded0bd65",
   "metadata": {},
   "source": [
    "-  |Data Science Tools|\n",
    "   --------------------\n",
    "   |Jupyter|\n",
    "   |VS Code|\n",
    "   |R Studio|"
   ]
  },
  {
   "cell_type": "markdown",
   "id": "91d39e49",
   "metadata": {},
   "source": [
    "### - Below are a few examples of evaluating arithmetic expressions in Python ###"
   ]
  },
  {
   "cell_type": "code",
   "execution_count": 12,
   "id": "c01110c9",
   "metadata": {},
   "outputs": [
    {
     "data": {
      "text/plain": [
       "17"
      ]
     },
     "execution_count": 12,
     "metadata": {},
     "output_type": "execute_result"
    }
   ],
   "source": [
    "(3*4)+5\n",
    "#This a simple arithmetic expression to mutiply then add integers"
   ]
  },
  {
   "cell_type": "code",
   "execution_count": 11,
   "id": "a5e4413d",
   "metadata": {},
   "outputs": [
    {
     "name": "stdout",
     "output_type": "stream",
     "text": [
      "Hours= 3.3333333333333335\n"
     ]
    }
   ],
   "source": [
    "Minutes = 200\n",
    "Hours = Minutes/60\n",
    "print (\"Hours=\",Hours)\n",
    "#This will convert 200 minutes to hours by diving by 60"
   ]
  },
  {
   "cell_type": "markdown",
   "id": "05396726",
   "metadata": {},
   "source": [
    "## Author\n",
    "----------------------\n",
    "Ishan Sharma"
   ]
  }
 ],
 "metadata": {
  "kernelspec": {
   "display_name": "Python 3 (ipykernel)",
   "language": "python",
   "name": "python3"
  },
  "language_info": {
   "codemirror_mode": {
    "name": "ipython",
    "version": 3
   },
   "file_extension": ".py",
   "mimetype": "text/x-python",
   "name": "python",
   "nbconvert_exporter": "python",
   "pygments_lexer": "ipython3",
   "version": "3.11.3"
  }
 },
 "nbformat": 4,
 "nbformat_minor": 5
}
